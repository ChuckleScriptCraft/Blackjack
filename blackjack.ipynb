{
 "cells": [
  {
   "cell_type": "code",
   "execution_count": 2,
   "metadata": {},
   "outputs": [],
   "source": [
    "# Python 3.11\n",
    "# Harry Mancinelli\n",
    "# Play Blackjack\n",
    "\n",
    "from card_deck import *\n",
    "import numpy as np\n",
    "import pandas as pd\n",
    "import copy"
   ]
  },
  {
   "cell_type": "code",
   "execution_count": 3,
   "metadata": {},
   "outputs": [],
   "source": [
    "deck = create_deck()\n",
    "play_token = False\n",
    "dealer = []\n",
    "player = []\n",
    "d_score = 0\n",
    "p_score = 0\n",
    "ranks = ['2', '3', '4', '5', '6', '7', '8', '9', '10', 'Jack', 'Queen', 'King',\"Ace\"]"
   ]
  },
  {
   "cell_type": "code",
   "execution_count": 4,
   "metadata": {},
   "outputs": [],
   "source": [
    "def draw_card() :\n",
    "    card_index = np.random.randint(0,len(deck))\n",
    "    take_card = deck[card_index]\n",
    "    deck.remove(take_card)\n",
    "    return take_card\n",
    "\n",
    "\n",
    "def display_card(card) :\n",
    "    print(card[0], \"of\", card[1])\n",
    "    \n",
    "\n",
    "def calculate_score(card) :\n",
    "    temp = card[0]\n",
    "    index = ranks.index(temp) + 2\n",
    "    if index in [11,12,13] :\n",
    "        index = 10\n",
    "    elif index == 14 :\n",
    "        index = 11\n",
    "    return index"
   ]
  },
  {
   "cell_type": "code",
   "execution_count": 5,
   "metadata": {},
   "outputs": [],
   "source": [
    "def play_blackjack(action = \"stand\") :\n",
    "    \n",
    "    global play_token\n",
    "    global dealer\n",
    "    global player\n",
    "    global p_score\n",
    "    global d_score\n",
    "    \n",
    "    \n",
    "    if not play_token :\n",
    "        player.append(draw_card())\n",
    "        dealer.append(draw_card())\n",
    "        player.append(draw_card())\n",
    "        dealer.append(draw_card())\n",
    "        \n",
    "        play_token = True\n",
    "        \n",
    "        # Dealer Hand\n",
    "        print(\"Dealer's Hand:\")\n",
    "        display_card(dealer[0])  \n",
    "        print(\"Down Card\")\n",
    "        \n",
    "        # Dealer Score\n",
    "        d_score = calculate_score(dealer[0])\n",
    "        print(\"\\nDealer's Score:\",d_score)\n",
    "        \n",
    "        # Player Hand\n",
    "        print(\"\\nYour Hand:\")\n",
    "        for card in player :\n",
    "            display_card(card)\n",
    "            \n",
    "        # Player Score\n",
    "        for card in player :\n",
    "                p_score += (calculate_score(card)) \n",
    "        print(\"\\nYour Score:\", p_score)        \n",
    "\n"
   ]
  },
  {
   "cell_type": "code",
   "execution_count": 6,
   "metadata": {},
   "outputs": [
    {
     "name": "stdout",
     "output_type": "stream",
     "text": [
      "Dealer's Hand:\n",
      "Ace of Spades\n",
      "Down Card\n",
      "\n",
      "Dealer's Score: 11\n",
      "\n",
      "Your Hand:\n",
      "9 of Clubs\n",
      "9 of Spades\n",
      "\n",
      "Your Score: 18\n"
     ]
    }
   ],
   "source": [
    "deck = create_deck()\n",
    "play_token = False\n",
    "dealer = []\n",
    "player = []\n",
    "d_score = 0\n",
    "p_score = 0\n",
    "play_blackjack()"
   ]
  }
 ],
 "metadata": {
  "kernelspec": {
   "display_name": ".venv",
   "language": "python",
   "name": "python3"
  },
  "language_info": {
   "codemirror_mode": {
    "name": "ipython",
    "version": 3
   },
   "file_extension": ".py",
   "mimetype": "text/x-python",
   "name": "python",
   "nbconvert_exporter": "python",
   "pygments_lexer": "ipython3",
   "version": "3.11.7"
  }
 },
 "nbformat": 4,
 "nbformat_minor": 2
}
