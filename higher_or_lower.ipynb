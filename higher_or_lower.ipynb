{
 "cells": [
  {
   "cell_type": "code",
   "execution_count": null,
   "metadata": {},
   "outputs": [],
   "source": [
    "# Python 3.11\n",
    "# Harry Mancinelli\n",
    "# Play Higher or Lower\n",
    "\n",
    "from card_deck import *\n",
    "import numpy as np\n",
    "import pandas as pd\n",
    "import copy"
   ]
  },
  {
   "cell_type": "code",
   "execution_count": null,
   "metadata": {},
   "outputs": [],
   "source": [
    "# Create Deck + Hand\n",
    "\n",
    "deck = create_deck()\n",
    "hand = []\n",
    "score = 0\n",
    "ranks = ['Ace','2', '3', '4', '5', '6', '7', '8', '9', '10', 'Jack', 'Queen', 'King']\n",
    "record = []"
   ]
  },
  {
   "cell_type": "code",
   "execution_count": null,
   "metadata": {},
   "outputs": [],
   "source": [
    "\n",
    "def draw_card(input = \"H\", rules = \"N\") :\n",
    "        \n",
    "        if rules == \"Y\" :\n",
    "                print(\"1. Ace is low \\n2. Equal rank is a loss\")\n",
    "                return\n",
    "        \n",
    "        global hand\n",
    "        global deck\n",
    "        global top_card\n",
    "        \n",
    "        if(len(hand) == 0) :\n",
    "                deck_size = len(deck)\n",
    "                card_index = np.random.randint(0,deck_size)\n",
    "                top_card = deck[card_index]\n",
    "                deck.remove(top_card)\n",
    "                print(\"First Card:\", top_card[0], \"of\", top_card[1])\n",
    "        \n",
    "                hand.append(top_card[0])\n",
    "                                \n",
    "        else :\n",
    "                last_card = copy.deepcopy(top_card)\n",
    "                deck_size = len(deck)\n",
    "                card_index = np.random.randint(0,deck_size)\n",
    "                top_card = deck[card_index]\n",
    "                deck.remove(top_card)\n",
    "                print(\"Last Card:\", last_card[0], \"of\", last_card[1])\n",
    "                print(\"Your Card:\", top_card[0], \"of\", top_card[1])\n",
    "                hand.append(top_card[0])                    \n",
    "                \n",
    "                if ranks.index(hand[-1]) > ranks.index(hand[-2]) and input == \"H\" or ranks.index(hand[-1]) < ranks.index(hand[-2]) and input == \"L\":\n",
    "                        global score\n",
    "                        score = score + 1\n",
    "                        print(\"Well Done! New Score:\", score)  \n",
    "                else :\n",
    "                        record.append(score)\n",
    "                        print(\"You Lose. Final Score:\", score, \"\\nRecord:\", max(record))\n",
    "                        deck = create_deck()\n",
    "                        hand = []\n",
    "                        score = 0 \n",
    "                        \n",
    "def summary_stats() :\n",
    "    print(\"Average Score:\", np.median(record),\"\\nNumber of Tries:\", len(record),\"\\nNumber of Immediate Losses:\",sum(1 for element in record if element == 0),\"\\nRecord Attempt:\",record.index(max(record)))"
   ]
  },
  {
   "cell_type": "code",
   "execution_count": null,
   "metadata": {},
   "outputs": [],
   "source": [
    "draw_card(\"H\")"
   ]
  },
  {
   "cell_type": "code",
   "execution_count": null,
   "metadata": {},
   "outputs": [],
   "source": [
    "if len(record) > 0 :\n",
    "    summary_stats()"
   ]
  }
 ],
 "metadata": {
  "kernelspec": {
   "display_name": ".venv",
   "language": "python",
   "name": "python3"
  },
  "language_info": {
   "codemirror_mode": {
    "name": "ipython",
    "version": 3
   },
   "file_extension": ".py",
   "mimetype": "text/x-python",
   "name": "python",
   "nbconvert_exporter": "python",
   "pygments_lexer": "ipython3",
   "version": "3.11.7"
  }
 },
 "nbformat": 4,
 "nbformat_minor": 2
}
